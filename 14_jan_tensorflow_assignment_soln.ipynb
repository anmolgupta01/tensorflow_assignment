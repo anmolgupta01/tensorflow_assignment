{
 "cells": [
  {
   "cell_type": "markdown",
   "id": "6b95ce01",
   "metadata": {},
   "source": [
    "# 1. What are the different data structures used in Tensorflow?. Give some examples"
   ]
  },
  {
   "cell_type": "markdown",
   "id": "d2d9c0e3",
   "metadata": {},
   "source": [
    "TensorFlow, an open-source machine learning library, uses various data structures to represent and manipulate data efficiently. Here are some of the key data structures used in TensorFlow:\n",
    "\n",
    "1. **Tensors:**\n",
    "   - Tensors are the fundamental building blocks in TensorFlow, representing multi-dimensional arrays or matrices. They can have any number of dimensions (rank) and are the primary data structure for storing input data, weights, and activations.\n",
    "   - Example:"
   ]
  },
  {
   "cell_type": "code",
   "execution_count": 2,
   "id": "ac27ec42",
   "metadata": {},
   "outputs": [
    {
     "name": "stdout",
     "output_type": "stream",
     "text": [
      "WARNING:tensorflow:From C:\\Users\\getan\\AppData\\Roaming\\Python\\Python311\\site-packages\\keras\\src\\losses.py:2976: The name tf.losses.sparse_softmax_cross_entropy is deprecated. Please use tf.compat.v1.losses.sparse_softmax_cross_entropy instead.\n",
      "\n"
     ]
    }
   ],
   "source": [
    "import tensorflow as tf\n",
    "tensor_1d = tf.constant([1, 2, 3])\n",
    "tensor_2d = tf.constant([[1, 2, 3], [4, 5, 6]])"
   ]
  },
  {
   "cell_type": "markdown",
   "id": "60126bb8",
   "metadata": {},
   "source": [
    "2. **Constants:**\n",
    "   - Constants are tensors with fixed values that do not change during the execution of a program. They are often used for storing hyperparameters or fixed input values.\n",
    "   - Example:\n",
    "\n"
   ]
  },
  {
   "cell_type": "code",
   "execution_count": 4,
   "id": "a876750b",
   "metadata": {},
   "outputs": [],
   "source": [
    "import tensorflow as tf\n",
    "constant_tensor = tf.constant([1, 2, 3])"
   ]
  },
  {
   "cell_type": "markdown",
   "id": "17d8cd36",
   "metadata": {},
   "source": [
    "3. **Variables:**\n",
    "   - Variables are tensors whose values can be modified during the execution of a program. They are typically used to store model parameters that need to be updated during training.\n",
    "   - Example:"
   ]
  },
  {
   "cell_type": "code",
   "execution_count": 5,
   "id": "1d28e018",
   "metadata": {},
   "outputs": [],
   "source": [
    "import tensorflow as tf\n",
    "variable_tensor = tf.Variable([1, 2, 3])"
   ]
  },
  {
   "cell_type": "markdown",
   "id": "993c29b6",
   "metadata": {},
   "source": [
    "4. **Placeholders:**\n",
    "   - Placeholders are used to feed actual data into a TensorFlow computational graph during runtime. They are often used for input data in training.\n",
    "   - Example:\n"
   ]
  },
  {
   "cell_type": "code",
   "execution_count": 10,
   "id": "bf850064",
   "metadata": {},
   "outputs": [
    {
     "name": "stdout",
     "output_type": "stream",
     "text": [
      "WARNING:tensorflow:From C:\\Users\\getan\\AppData\\Roaming\\Python\\Python311\\site-packages\\keras\\src\\backend.py:1398: The name tf.executing_eagerly_outside_functions is deprecated. Please use tf.compat.v1.executing_eagerly_outside_functions instead.\n",
      "\n"
     ]
    }
   ],
   "source": [
    "import tensorflow as tf\n",
    "\n",
    "# Using tf.keras.Input for placeholder-like behavior\n",
    "x = tf.keras.Input(shape=(10,))\n"
   ]
  },
  {
   "cell_type": "markdown",
   "id": "e2dda41a",
   "metadata": {},
   "source": [
    "5. **Sparse Tensors:**\n",
    "   - Sparse tensors are used to efficiently represent tensors with a large number of zero values. They are particularly useful in scenarios where most elements are zero."
   ]
  },
  {
   "cell_type": "code",
   "execution_count": 7,
   "id": "56a782e8",
   "metadata": {},
   "outputs": [],
   "source": [
    "import tensorflow as tf\n",
    "sparse_tensor = tf.sparse.SparseTensor(indices=[[0, 0], [1, 1]], values=[1, 2], dense_shape=[2, 2])"
   ]
  },
  {
   "cell_type": "markdown",
   "id": "a6f75728",
   "metadata": {},
   "source": [
    "6. **Ragged Tensors:**\n",
    "   - Ragged tensors represent tensors with non-uniform shapes along one or more dimensions. They are useful for sequences or nested data where the length of each element can vary.\n",
    "   - Example:"
   ]
  },
  {
   "cell_type": "code",
   "execution_count": 8,
   "id": "48b2e0da",
   "metadata": {},
   "outputs": [],
   "source": [
    "import tensorflow as tf\n",
    "ragged_tensor = tf.ragged.constant([[1, 2], [3, 4, 5], [6]])"
   ]
  },
  {
   "cell_type": "markdown",
   "id": "2e9f6be9",
   "metadata": {},
   "source": [
    "7. **Eager Tensors:**\n",
    "   - Eager tensors are used in TensorFlow Eager Execution, allowing for immediate evaluation of operations. In Eager mode, TensorFlow operations are executed eagerly like regular Python code.\n",
    "   - Example:"
   ]
  },
  {
   "cell_type": "code",
   "execution_count": 9,
   "id": "8af781f3",
   "metadata": {},
   "outputs": [],
   "source": [
    "import tensorflow as tf\n",
    "tf.config.run_functions_eagerly(True)  # Enable Eager Execution\n",
    "eager_tensor = tf.constant([1, 2, 3])"
   ]
  },
  {
   "cell_type": "markdown",
   "id": "060227e4",
   "metadata": {},
   "source": [
    "# 2. How does the TensorFlow constant differ from a TensorFlow variable? Explain with an example"
   ]
  },
  {
   "cell_type": "markdown",
   "id": "aeded340",
   "metadata": {},
   "source": [
    "In TensorFlow, both constants and variables are used to represent tensors, but they have different characteristics.\n",
    "\n",
    "1. **TensorFlow Constants:**\n",
    "   - Constants are tensors whose values cannot be changed after initialization.\n",
    "   - They are created using the `tf.constant` function.\n",
    "   - Once a constant is defined, its value remains the same throughout the execution of a TensorFlow program.\n"
   ]
  },
  {
   "cell_type": "code",
   "execution_count": 11,
   "id": "ae13a392",
   "metadata": {},
   "outputs": [],
   "source": [
    "import tensorflow as tf\n",
    "\n",
    "# Creating a TensorFlow constant\n",
    "a = tf.constant([2.0, 3.0, 4.0], dtype=tf.float32)\n",
    "\n",
    "# Trying to assign a new value to the constant will result in an error\n",
    "# a = a + 1  # This line will raise an error"
   ]
  },
  {
   "cell_type": "markdown",
   "id": "c72ec3a1",
   "metadata": {},
   "source": [
    "\n",
    "2. **TensorFlow Variables:**\n",
    "   - Variables are used to represent trainable parameters in a model.\n",
    "   - They are created using the `tf.Variable` class.\n",
    "   - The values of variables can be changed during the execution of a TensorFlow program, making them suitable for storing and updating model parameters during training."
   ]
  },
  {
   "cell_type": "code",
   "execution_count": 12,
   "id": "c322b94a",
   "metadata": {},
   "outputs": [],
   "source": [
    "import tensorflow as tf\n",
    "\n",
    "# Creating a TensorFlow variable\n",
    "b = tf.Variable([2.0, 3.0, 4.0], dtype=tf.float32)\n",
    "\n",
    "# Updating the value of the variable\n",
    "b.assign([5.0, 6.0, 7.0])\n",
    "\n",
    "# Variables can be used in mathematical operations and can be updated\n",
    "b = b + 1.0"
   ]
  },
  {
   "cell_type": "markdown",
   "id": "c9e4af6e",
   "metadata": {},
   "source": [
    "# 3.Describe the process of matrix addition, multiplication, and element-wise operations in TensorFlow"
   ]
  },
  {
   "cell_type": "markdown",
   "id": "12cd58b2",
   "metadata": {},
   "source": [
    "TensorFlow provides functions and operators for performing various matrix operations, including addition, multiplication, and element-wise operations. Here's an overview of these operations:\n",
    "\n",
    "### Matrix Addition:\n",
    "\n",
    "Matrix addition is performed element-wise, and the matrices must have the same dimensions.\n",
    "\n",
    "\n",
    "### Matrix Multiplication:\n",
    "\n",
    "Matrix multiplication is performed using the `tf.matmul` function or the `@` operator. The number of columns in the first matrix must be equal to the number of rows in the second matrix.\n",
    "\n",
    "\n",
    "### Element-wise Operations:\n",
    "\n",
    "Element-wise operations are performed on corresponding elements of two matrices or a matrix and a scalar.\n"
   ]
  },
  {
   "cell_type": "code",
   "execution_count": 13,
   "id": "4f08f379",
   "metadata": {},
   "outputs": [
    {
     "name": "stdout",
     "output_type": "stream",
     "text": [
      "Matrix A:\n",
      " tf.Tensor(\n",
      "[[1. 2.]\n",
      " [3. 4.]], shape=(2, 2), dtype=float32)\n",
      "Matrix B:\n",
      " tf.Tensor(\n",
      "[[5. 6.]\n",
      " [7. 8.]], shape=(2, 2), dtype=float32)\n",
      "Matrix C (Sum):\n",
      " tf.Tensor(\n",
      "[[ 6.  8.]\n",
      " [10. 12.]], shape=(2, 2), dtype=float32)\n",
      "Matrix C (Alternative):\n",
      " tf.Tensor(\n",
      "[[ 6.  8.]\n",
      " [10. 12.]], shape=(2, 2), dtype=float32)\n"
     ]
    }
   ],
   "source": [
    "import tensorflow as tf\n",
    "\n",
    "# Define two matrices\n",
    "A = tf.constant([[1, 2], [3, 4]], dtype=tf.float32)\n",
    "B = tf.constant([[5, 6], [7, 8]], dtype=tf.float32)\n",
    "\n",
    "# Matrix addition\n",
    "C = tf.add(A, B)\n",
    "\n",
    "# Alternatively, you can use the '+' operator\n",
    "C_alternative = A + B\n",
    "\n",
    "# Print the result\n",
    "print(\"Matrix A:\\n\", A)\n",
    "print(\"Matrix B:\\n\", B)\n",
    "print(\"Matrix C (Sum):\\n\", C)\n",
    "print(\"Matrix C (Alternative):\\n\", C_alternative)\n"
   ]
  },
  {
   "cell_type": "code",
   "execution_count": 15,
   "id": "d323cf21",
   "metadata": {},
   "outputs": [
    {
     "name": "stdout",
     "output_type": "stream",
     "text": [
      "Matrix A:\n",
      " tf.Tensor(\n",
      "[[1. 2.]\n",
      " [3. 4.]], shape=(2, 2), dtype=float32)\n",
      "Matrix B:\n",
      " tf.Tensor(\n",
      "[[5. 6.]\n",
      " [7. 8.]], shape=(2, 2), dtype=float32)\n",
      "Matrix D (Product):\n",
      " tf.Tensor(\n",
      "[[19. 22.]\n",
      " [43. 50.]], shape=(2, 2), dtype=float32)\n",
      "Matrix D (Alternative):\n",
      " tf.Tensor(\n",
      "[[19. 22.]\n",
      " [43. 50.]], shape=(2, 2), dtype=float32)\n"
     ]
    }
   ],
   "source": [
    "# Define two matrices\n",
    "A = tf.constant([[1, 2], [3, 4]], dtype=tf.float32)\n",
    "B = tf.constant([[5, 6], [7, 8]], dtype=tf.float32)\n",
    "\n",
    "# Matrix multiplication\n",
    "D = tf.matmul(A, B)\n",
    "\n",
    "# Alternatively, you can use the '@' operator\n",
    "D_alternative = A @ B\n",
    "\n",
    "# Print the result\n",
    "print(\"Matrix A:\\n\", A)\n",
    "print(\"Matrix B:\\n\", B)\n",
    "print(\"Matrix D (Product):\\n\", D)\n",
    "print(\"Matrix D (Alternative):\\n\", D_alternative)\n"
   ]
  },
  {
   "cell_type": "code",
   "execution_count": 14,
   "id": "ef9bfd70",
   "metadata": {},
   "outputs": [
    {
     "name": "stdout",
     "output_type": "stream",
     "text": [
      "Matrix A:\n",
      " tf.Tensor(\n",
      "[[1. 2.]\n",
      " [3. 4.]], shape=(2, 2), dtype=float32)\n",
      "Element-wise Addition with Scalar:\n",
      " tf.Tensor(\n",
      "[[3. 4.]\n",
      " [5. 6.]], shape=(2, 2), dtype=float32)\n",
      "Element-wise Multiplication with Scalar:\n",
      " tf.Tensor(\n",
      "[[2. 4.]\n",
      " [6. 8.]], shape=(2, 2), dtype=float32)\n"
     ]
    }
   ],
   "source": [
    "# Define a matrix and a scalar\n",
    "A = tf.constant([[1, 2], [3, 4]], dtype=tf.float32)\n",
    "scalar = 2.0\n",
    "\n",
    "# Element-wise addition with a scalar\n",
    "E_add_scalar = tf.add(A, scalar)\n",
    "\n",
    "# Element-wise multiplication with a scalar\n",
    "E_multiply_scalar = tf.multiply(A, scalar)\n",
    "\n",
    "# Print the results\n",
    "print(\"Matrix A:\\n\", A)\n",
    "print(\"Element-wise Addition with Scalar:\\n\", E_add_scalar)\n",
    "print(\"Element-wise Multiplication with Scalar:\\n\", E_multiply_scalar)\n"
   ]
  },
  {
   "cell_type": "markdown",
   "id": "5a199ea6",
   "metadata": {},
   "source": [
    "## Part 2: Practical Implementation \n",
    "## Task 1: Creating and Manipulating Matrice\n",
    "\n",
    "## 1.Create a normal matrix A with dimensions 3x3, using TensorFlow's random_normal function. Display the values of matrix A"
   ]
  },
  {
   "cell_type": "code",
   "execution_count": 37,
   "id": "dd5d81d2",
   "metadata": {},
   "outputs": [
    {
     "name": "stdout",
     "output_type": "stream",
     "text": [
      "Matrix A:\n",
      " [[ 0.10513849  0.9730392  -0.80379575]\n",
      " [-1.2557931   0.5607763   0.67032516]\n",
      " [ 1.1329962   0.08792424 -1.0428816 ]]\n"
     ]
    }
   ],
   "source": [
    "import tensorflow as tf\n",
    "\n",
    "# Create a 3x3 matrix with random normal values\n",
    "A = tf.random.normal(shape=(3, 3), mean=0, stddev=1, dtype=tf.float32)\n",
    "\n",
    "# Display the values of matrix A\n",
    "print(\"Matrix A:\\n\", A.numpy())\n"
   ]
  },
  {
   "cell_type": "markdown",
   "id": "89b2b811",
   "metadata": {},
   "source": [
    "# 2. Create a Gaussian matrix B with dimensions 4x4, using TensorFlow's truncated_normal function. Display the values of matrix B"
   ]
  },
  {
   "cell_type": "code",
   "execution_count": 38,
   "id": "cbc00186",
   "metadata": {},
   "outputs": [
    {
     "name": "stdout",
     "output_type": "stream",
     "text": [
      "Matrix B:\n",
      " [[-0.2663034  -1.9332291   1.7789391 ]\n",
      " [-0.49818808  1.2810495   0.2453327 ]\n",
      " [ 0.7400403  -0.54525626 -0.25681627]]\n"
     ]
    }
   ],
   "source": [
    "import tensorflow as tf\n",
    "\n",
    "# Create a 4x4 matrix with truncated normal values\n",
    "B = tf.random.truncated_normal(shape=(3, 3), mean=0, stddev=1, dtype=tf.float32)\n",
    "\n",
    "# Display the values of matrix B\n",
    "print(\"Matrix B:\\n\", B.numpy())\n"
   ]
  },
  {
   "cell_type": "markdown",
   "id": "2645d556",
   "metadata": {},
   "source": [
    "# 3. Create a matrix C with dimensions 2x2, where the values are drawn from a normal distribution with a mean of 3 and a standard deviation of 0.5, using TensorFlow's random.normal function. Display the values of matrix C"
   ]
  },
  {
   "cell_type": "code",
   "execution_count": 39,
   "id": "b6448003",
   "metadata": {},
   "outputs": [
    {
     "name": "stdout",
     "output_type": "stream",
     "text": [
      "Matrix C:\n",
      " [[3.542968  3.417956 ]\n",
      " [3.0315757 2.6875625]\n",
      " [2.023169  3.1942003]]\n"
     ]
    }
   ],
   "source": [
    "import tensorflow as tf\n",
    "\n",
    "# Create a 2x2 matrix with normal distribution values\n",
    "mean_value = 3\n",
    "stddev_value = 0.5\n",
    "C = tf.random.normal(shape=(3, 2), mean=3, stddev=0.5, dtype=tf.float32)\n",
    "\n",
    "# Display the values of matrix C\n",
    "print(\"Matrix C:\\n\", C.numpy())\n"
   ]
  },
  {
   "cell_type": "markdown",
   "id": "22552b11",
   "metadata": {},
   "source": [
    "# 4. Perform matrix addition between matrix A and matrix B, and store the result in matrix D "
   ]
  },
  {
   "cell_type": "code",
   "execution_count": 40,
   "id": "8782f4f6",
   "metadata": {},
   "outputs": [
    {
     "name": "stdout",
     "output_type": "stream",
     "text": [
      "Matrix A:\n",
      " [[ 0.10513849  0.9730392  -0.80379575]\n",
      " [-1.2557931   0.5607763   0.67032516]\n",
      " [ 1.1329962   0.08792424 -1.0428816 ]]\n",
      "\n",
      "Matrix B:\n",
      " [[-0.2663034  -1.9332291   1.7789391 ]\n",
      " [-0.49818808  1.2810495   0.2453327 ]\n",
      " [ 0.7400403  -0.54525626 -0.25681627]]\n",
      "\n",
      "Matrix D (Result of Addition):\n",
      " [[-0.16116491 -0.9601899   0.9751434 ]\n",
      " [-1.7539811   1.8418257   0.9156579 ]\n",
      " [ 1.8730365  -0.45733202 -1.2996979 ]]\n"
     ]
    }
   ],
   "source": [
    "import tensorflow as tf\n",
    "\n",
    "# Perform matrix addition\n",
    "D = tf.add(A, B)\n",
    "\n",
    "# Display the values of matrices A, B, and D\n",
    "print(\"Matrix A:\\n\", A.numpy())\n",
    "print(\"\\nMatrix B:\\n\", B.numpy())\n",
    "print(\"\\nMatrix D (Result of Addition):\\n\", D.numpy())\n"
   ]
  },
  {
   "cell_type": "markdown",
   "id": "4c55ea47",
   "metadata": {},
   "source": [
    "# 5. Perform matrix multiplication between matrix C and matrix D, and store the result in matrix E."
   ]
  },
  {
   "cell_type": "code",
   "execution_count": 41,
   "id": "14580bd9",
   "metadata": {},
   "outputs": [
    {
     "name": "stdout",
     "output_type": "stream",
     "text": [
      "Matrix C:\n",
      " [[3.542968  3.417956 ]\n",
      " [3.0315757 2.6875625]\n",
      " [2.023169  3.1942003]]\n",
      "Matrix E:\n",
      " [[-1.5090106  -0.01662167]\n",
      " [ 1.2218655   1.8797859 ]\n",
      " [ 2.6201634   1.0213529 ]]\n"
     ]
    }
   ],
   "source": [
    "# Perform matrix multiplication\n",
    "E = tf.matmul(D, C)\n",
    "\n",
    "# Display the values of matrices C and E\n",
    "print(\"Matrix C:\\n\", C.numpy())\n",
    "print(\"Matrix E:\\n\", E.numpy())\n"
   ]
  },
  {
   "cell_type": "markdown",
   "id": "538771dd",
   "metadata": {},
   "source": [
    "# Task 2: Performing Additional Matrix Operation \n",
    "# 1.Create a matrix F with dimensions 3x3, initialized with random values using TensorFlow's random_uniform function"
   ]
  },
  {
   "cell_type": "code",
   "execution_count": 42,
   "id": "d64f3f8f",
   "metadata": {},
   "outputs": [
    {
     "name": "stdout",
     "output_type": "stream",
     "text": [
      "Matrix F:\n",
      " [[0.17038596 0.03125179 0.07138896]\n",
      " [0.12079787 0.35857928 0.31019437]\n",
      " [0.5420991  0.77410746 0.94472086]]\n"
     ]
    }
   ],
   "source": [
    "import tensorflow as tf\n",
    "\n",
    "# Define matrix F with dimensions 3x3\n",
    "F = tf.random.uniform(shape=(3, 3), minval=0, maxval=1, dtype=tf.float32)\n",
    "\n",
    "# Display the values of matrix F\n",
    "print(\"Matrix F:\\n\", F.numpy())\n"
   ]
  },
  {
   "cell_type": "markdown",
   "id": "785a2780",
   "metadata": {},
   "source": [
    "# 2. Calculate the transpose of matrix F and store the result in matrix G"
   ]
  },
  {
   "cell_type": "code",
   "execution_count": 43,
   "id": "259cb2d8",
   "metadata": {},
   "outputs": [
    {
     "name": "stdout",
     "output_type": "stream",
     "text": [
      "Matrix F:\n",
      " [[0.17038596 0.03125179 0.07138896]\n",
      " [0.12079787 0.35857928 0.31019437]\n",
      " [0.5420991  0.77410746 0.94472086]]\n",
      "\n",
      "Matrix G (Transpose of F):\n",
      " [[0.17038596 0.12079787 0.5420991 ]\n",
      " [0.03125179 0.35857928 0.77410746]\n",
      " [0.07138896 0.31019437 0.94472086]]\n"
     ]
    }
   ],
   "source": [
    "# Calculate the transpose of matrix F\n",
    "G = tf.transpose(F)\n",
    "\n",
    "# Display the values of matrices F and G\n",
    "print(\"Matrix F:\\n\", F.numpy())\n",
    "print(\"\\nMatrix G (Transpose of F):\\n\", G.numpy())\n"
   ]
  },
  {
   "cell_type": "markdown",
   "id": "f76c05b0",
   "metadata": {},
   "source": [
    "# 3. Calculate the element-wise exponential of matrix F and store the result in matrix H"
   ]
  },
  {
   "cell_type": "code",
   "execution_count": 44,
   "id": "65e52204",
   "metadata": {},
   "outputs": [
    {
     "name": "stdout",
     "output_type": "stream",
     "text": [
      "Matrix F:\n",
      " [[0.17038596 0.03125179 0.07138896]\n",
      " [0.12079787 0.35857928 0.31019437]\n",
      " [0.5420991  0.77410746 0.94472086]]\n",
      "\n",
      "Matrix H (Element-wise Exponential of F):\n",
      " [[1.1857624 1.0317452 1.0739989]\n",
      " [1.1283967 1.4312944 1.3636901]\n",
      " [1.7196127 2.1686556 2.5720954]]\n"
     ]
    }
   ],
   "source": [
    "# Calculate the element-wise exponential of matrix F\n",
    "H = tf.exp(F)\n",
    "\n",
    "# Display the values of matrices F and H\n",
    "print(\"Matrix F:\\n\", F.numpy())\n",
    "print(\"\\nMatrix H (Element-wise Exponential of F):\\n\", H.numpy())\n"
   ]
  },
  {
   "cell_type": "markdown",
   "id": "10f10f90",
   "metadata": {},
   "source": [
    "# 4. Create a matrix I by concatenating matrix F and matrix G horizontally"
   ]
  },
  {
   "cell_type": "code",
   "execution_count": 45,
   "id": "269d7752",
   "metadata": {},
   "outputs": [
    {
     "name": "stdout",
     "output_type": "stream",
     "text": [
      "Matrix F:\n",
      " [[0.17038596 0.03125179 0.07138896]\n",
      " [0.12079787 0.35857928 0.31019437]\n",
      " [0.5420991  0.77410746 0.94472086]]\n",
      "\n",
      "Matrix G:\n",
      " [[0.17038596 0.12079787 0.5420991 ]\n",
      " [0.03125179 0.35857928 0.77410746]\n",
      " [0.07138896 0.31019437 0.94472086]]\n",
      "\n",
      "Matrix I (Concatenation of F and G horizontally):\n",
      " [[0.17038596 0.03125179 0.07138896 0.17038596 0.12079787 0.5420991 ]\n",
      " [0.12079787 0.35857928 0.31019437 0.03125179 0.35857928 0.77410746]\n",
      " [0.5420991  0.77410746 0.94472086 0.07138896 0.31019437 0.94472086]]\n"
     ]
    }
   ],
   "source": [
    "# Concatenate matrices F and G horizontally\n",
    "I = tf.concat([F, G], axis=1)\n",
    "\n",
    "# Display the values of matrices F, G, and I\n",
    "print(\"Matrix F:\\n\", F.numpy())\n",
    "print(\"\\nMatrix G:\\n\", G.numpy())\n",
    "print(\"\\nMatrix I (Concatenation of F and G horizontally):\\n\", I.numpy())\n"
   ]
  },
  {
   "cell_type": "markdown",
   "id": "c7114f23",
   "metadata": {},
   "source": [
    "# 5. Create a matrix J by concatenating matrix F and matrix H vertically."
   ]
  },
  {
   "cell_type": "code",
   "execution_count": 46,
   "id": "23ef98c3",
   "metadata": {},
   "outputs": [
    {
     "name": "stdout",
     "output_type": "stream",
     "text": [
      "Matrix F:\n",
      " [[0.17038596 0.03125179 0.07138896]\n",
      " [0.12079787 0.35857928 0.31019437]\n",
      " [0.5420991  0.77410746 0.94472086]]\n",
      "\n",
      "Matrix H:\n",
      " [[1.1857624 1.0317452 1.0739989]\n",
      " [1.1283967 1.4312944 1.3636901]\n",
      " [1.7196127 2.1686556 2.5720954]]\n",
      "\n",
      "Matrix J (Concatenation of F and H vertically):\n",
      " [[0.17038596 0.03125179 0.07138896]\n",
      " [0.12079787 0.35857928 0.31019437]\n",
      " [0.5420991  0.77410746 0.94472086]\n",
      " [1.1857624  1.0317452  1.0739989 ]\n",
      " [1.1283967  1.4312944  1.3636901 ]\n",
      " [1.7196127  2.1686556  2.5720954 ]]\n"
     ]
    }
   ],
   "source": [
    "# Concatenate matrices F and H vertically\n",
    "J = tf.concat([F, H], axis=0)\n",
    "\n",
    "# Display the values of matrices F, H, and J\n",
    "print(\"Matrix F:\\n\", F.numpy())\n",
    "print(\"\\nMatrix H:\\n\", H.numpy())\n",
    "print(\"\\nMatrix J (Concatenation of F and H vertically):\\n\", J.numpy())\n"
   ]
  },
  {
   "cell_type": "code",
   "execution_count": null,
   "id": "e6fdc781",
   "metadata": {},
   "outputs": [],
   "source": []
  }
 ],
 "metadata": {
  "kernelspec": {
   "display_name": "Python 3 (ipykernel)",
   "language": "python",
   "name": "python3"
  },
  "language_info": {
   "codemirror_mode": {
    "name": "ipython",
    "version": 3
   },
   "file_extension": ".py",
   "mimetype": "text/x-python",
   "name": "python",
   "nbconvert_exporter": "python",
   "pygments_lexer": "ipython3",
   "version": "3.11.4"
  }
 },
 "nbformat": 4,
 "nbformat_minor": 5
}
